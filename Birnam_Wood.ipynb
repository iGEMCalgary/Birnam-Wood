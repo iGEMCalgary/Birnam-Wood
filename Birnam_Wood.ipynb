{
  "nbformat": 4,
  "nbformat_minor": 0,
  "metadata": {
    "colab": {
      "name": "Birnam Wood.ipynb",
      "provenance": [],
      "collapsed_sections": []
    },
    "kernelspec": {
      "name": "python3",
      "display_name": "Python 3"
    },
    "language_info": {
      "name": "python"
    }
  },
  "cells": [
    {
      "cell_type": "code",
      "metadata": {
        "id": "k6OpMuaGJ4i8"
      },
      "source": [
        "# Welcome, this is our initial Random Forest model along with our resulting model after nested cross-validation\n",
        "# Additionally, this includes a prediction of our Kon and Koff values for lanmodulin using the resulting model\n",
        "import pandas as pd\n",
        "import numpy as np\n",
        "import os\n",
        "from sklearn.model_selection import train_test_split "
      ],
      "execution_count": null,
      "outputs": []
    },
    {
      "cell_type": "code",
      "metadata": {
        "id": "ibcc7sTdVr4F"
      },
      "source": [
        "# This was our initial Kon and Koff Prediction:\n",
        "pd.options.display.max_rows = 201 #increase max row display\n",
        "# Read the Koff and Kon Dataset\n",
        "koff = pd.read_csv(\"Dataset_S2.csv\") # dataset\n",
        "kon = pd.read_csv(\"Dataset_S1.csv\") # dataset\n",
        "# Remove all empty or NA cells\n",
        "koff.dropna()\n",
        "kon.dropna()\n",
        "\n",
        "xf = koff.iloc[:,2:] # X Koff data\n",
        "yf = koff.iloc[:,1] # Label Koff data\n",
        "xn = kon.iloc[:,2:] # X Kon data\n",
        "yn = kon.iloc[:,1] # Label Kon data"
      ],
      "execution_count": null,
      "outputs": []
    },
    {
      "cell_type": "code",
      "metadata": {
        "id": "dsZN1ah-Ps4J",
        "colab": {
          "base_uri": "https://localhost:8080/"
        },
        "outputId": "7390d018-742c-4d5a-fb2c-8d25f511fb28"
      },
      "source": [
        "from sklearn.model_selection import train_test_split \n",
        "#split into training and test data, 1/9 split\n",
        "xf_train, xf_test, yf_train, yf_test = train_test_split(xf, yf, test_size = 1/9, random_state = 4)\n",
        "\n",
        "xn_train, xn_test, yn_train, yn_test = train_test_split(xn, yn, test_size = 1/9, random_state = 4)\n",
        "\n",
        "print(xf_test, xn_test)"
      ],
      "execution_count": null,
      "outputs": [
        {
          "output_type": "stream",
          "text": [
            "       DASA  RES_P  RES_NP  RES_C  ...  S_GP_ALL2  S_GP_INT2  S_WLC_ALL2  S_WLC_INT2\n",
            "31  1246.17  38.46   43.59  17.95  ...   0.000000   0.000000    0.528549         0.0\n",
            "43  2030.40  29.17   47.92  22.92  ...   0.000000   0.000000   -3.608049         0.0\n",
            "4   4755.11  50.47   35.51  14.02  ...   4.820282   0.000000    0.000000         0.0\n",
            "15  1520.56  30.53   45.26  24.21  ...   8.302018   2.484907    5.398221         0.0\n",
            "28  2633.38  57.14   22.22  20.63  ...   0.000000   0.000000    0.000000         0.0\n",
            "\n",
            "[5 rows x 201 columns]        DASA  RES_P  RES_NP  RES_C  ...  S_GP_ALL2  S_GP_INT2  S_WLC_ALL2  S_WLC_INT2\n",
            "31  1246.17  38.46   43.59  17.95  ...   0.000000   0.000000    0.528549         0.0\n",
            "43  2030.40  29.17   47.92  22.92  ...   0.000000   0.000000   -3.608049         0.0\n",
            "4   4755.11  50.47   35.51  14.02  ...   4.820282   0.000000    0.000000         0.0\n",
            "15  1520.56  30.53   45.26  24.21  ...   8.302018   2.484907    5.398221         0.0\n",
            "28  2633.38  57.14   22.22  20.63  ...   0.000000   0.000000    0.000000         0.0\n",
            "\n",
            "[5 rows x 201 columns]\n"
          ],
          "name": "stdout"
        }
      ]
    },
    {
      "cell_type": "code",
      "metadata": {
        "id": "tfg3Ek1vQKvV",
        "colab": {
          "base_uri": "https://localhost:8080/"
        },
        "outputId": "a3171959-7d55-4575-cc9f-80d94946212e"
      },
      "source": [
        "from sklearn.ensemble import RandomForestRegressor\n",
        "# Fit Koff Regressor Data with 100 trees \n",
        "regressorf = RandomForestRegressor(n_estimators = 100, random_state = 0)\n",
        "\n",
        "regressorf.fit(xf_train, yf_train)\n",
        "\n",
        "# Fit Kon Regressor Data with 100 trees \n",
        "regressorn = RandomForestRegressor(n_estimators = 100, random_state = 0)\n",
        "regressorn.fit(xn_train, yn_train)\n",
        "\n",
        "#Predicting test dataset\n",
        "yf_pred = regressorf.predict(xf_test)\n",
        "yn_pred = regressorn.predict(xn_test)\n",
        "\n",
        "print(yf_pred)\n",
        "print(yf_test)\n",
        "print(yn_pred)\n",
        "print(yn_test)"
      ],
      "execution_count": null,
      "outputs": [
        {
          "output_type": "stream",
          "text": [
            "[-3.93851311 -2.82892082 -3.17830389 -3.25735374 -2.35208683]\n",
            "31   -3.443697\n",
            "43   -2.414539\n",
            "4    -2.920819\n",
            "15   -3.443697\n",
            "28   -2.289037\n",
            "Name: log10_KOFF, dtype: float64\n",
            "[5.42287215 5.20849403 4.70561481 5.14405345 5.34671611]\n",
            "31    5.557507\n",
            "43    5.997823\n",
            "4     5.544068\n",
            "15    4.822822\n",
            "28    6.143015\n",
            "Name: log10_KON, dtype: float64\n"
          ],
          "name": "stdout"
        }
      ]
    },
    {
      "cell_type": "code",
      "metadata": {
        "id": "e71h1SDNSIR6",
        "colab": {
          "base_uri": "https://localhost:8080/"
        },
        "outputId": "4a6a7eee-e4eb-4c1f-d426-3fc77769873e"
      },
      "source": [
        "from sklearn.metrics import mean_squared_error \n",
        "\n",
        "#Evaluate accuracy based off of mean square error\n",
        "print(mean_squared_error(yf_test, yf_pred))\n",
        "print(mean_squared_error(yn_test, yn_pred))"
      ],
      "execution_count": null,
      "outputs": [
        {
          "output_type": "stream",
          "text": [
            "0.1043105671301628\n",
            "0.41629041684426005\n"
          ],
          "name": "stdout"
        }
      ]
    },
    {
      "cell_type": "code",
      "metadata": {
        "colab": {
          "base_uri": "https://localhost:8080/"
        },
        "id": "DCCpztUh0GLs",
        "outputId": "34c7d4f2-9acc-491e-cae6-98f7e642dd2d"
      },
      "source": [
        "# Using just the DASA to create a Random Forest Model, our resulting Model\n",
        "# Remove all labels except for DASA \n",
        "for label in xf.columns: \n",
        "  if label != \"DASA\":\n",
        "      xf_train = xf_train.drop(labels=label, axis=1)\n",
        "      xn_train = xn_train.drop(labels=label, axis=1)\n",
        "      xf_test = xf_test.drop(labels=label, axis=1)\n",
        "      xn_test = xn_test.drop(labels=label, axis=1)\n",
        "\n",
        "# Creating Koff Regressors\n",
        "regressorf = RandomForestRegressor(n_estimators = 100, random_state = 0)\n",
        "# Fitting Regressor\n",
        "regressorf.fit(xf_train, yf_train)\n",
        "\n",
        "# Creating Koff Regressors\n",
        "regressorn = RandomForestRegressor(n_estimators = 100, random_state = 0)\n",
        "# Fitting Regressor\n",
        "regressorn.fit(xn_train, yn_train)\n",
        "\n",
        "# Making a prediction\n",
        "yf_pred = regressorf.predict(xf_test)\n",
        "yn_pred = regressorn.predict(xn_test)\n",
        "\n",
        "print(mean_squared_error(yf_test, yf_pred))\n",
        "print(mean_squared_error(yn_test, yn_pred))\n",
        "#Results: \n",
        "# Koff Accuracy: 1.134517642079792\n",
        "# Kon Accuracy: 0.3761099157240717\n"
      ],
      "execution_count": null,
      "outputs": [
        {
          "output_type": "stream",
          "text": [
            "1.134517642079792\n",
            "0.3761099157240717\n"
          ],
          "name": "stdout"
        }
      ]
    },
    {
      "cell_type": "code",
      "metadata": {
        "colab": {
          "base_uri": "https://localhost:8080/"
        },
        "id": "O7jSB3jq7Duy",
        "outputId": "5bfb5ee0-6d8b-4b31-c4ed-ce50cc03d07f"
      },
      "source": [
        "# Making a prediction for lanmodulin\n",
        "lanM = pd.read_csv(\"lanM.csv\") # dataset\n",
        "lanmodulin = lanM.iloc[:,:]\n",
        "lanM_kon = regressorn.predict(lanmodulin)\n",
        "print(math.log(lanM_kon,10))\n",
        "# Result: Log10 KON  [4.93466724]\n",
        "\n",
        "# Constant from paper:(5.3 ± 0.6) × 10–12 \n",
        "# Log10 Kon = 4.93466724 ± 0.3761099157240717\n",
        "# Log10 koff = -6.34105689\n",
        "\n",
        "# lower Log10 Kon = 4.558557324 \n",
        "# lower kd = 4.7 × 10–12 \n",
        "# lower Log10 Koff = -6.76934481\n",
        "\n",
        "# upper Log10 Kon = 5.310777155\n",
        "# upper kd = 6.2 × 10–12 \n",
        "# upper Log10 Koff = -5.89683115\n",
        "\n",
        "# thus overall range would be:\n",
        "# Log10 Kon = 4.558557324 to 5.310777155\n",
        "# Log10 Koff = -6.76934481 to -5.89683115\n"
      ],
      "execution_count": null,
      "outputs": [
        {
          "output_type": "stream",
          "text": [
            "Log10 KON  [4.93466724]\n"
          ],
          "name": "stdout"
        }
      ]
    }
  ]
}